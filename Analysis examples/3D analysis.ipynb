{
 "cells": [
  {
   "cell_type": "code",
   "execution_count": null,
   "id": "191d0166",
   "metadata": {},
   "outputs": [],
   "source": [
    "from Functions_For_LIF_analysis import import_lif_file, quick_view_3d_images, cell_counter_3D, display_all_3Dlayers_from_list\n",
    "import numpy as np\n",
    "import pandas as pd\n",
    "from scipy import stats\n",
    "import matplotlib.pyplot as plt\n",
    "import copy"
   ]
  },
  {
   "cell_type": "code",
   "execution_count": null,
   "id": "fc012fe5",
   "metadata": {},
   "outputs": [],
   "source": [
    "#The data used for this 3D image analysis is flawed because of an incorrect experiment analysis(the additional dye channel pkh26\n",
    "#made the cell membranes permeable and this made the live/dead cell dyes work incorrectly), therefore the ratios of the cells\n",
    "#are not correct and the experiments will have to be redone, but this code should be applicable in the same way then too\n",
    "day5_data = import_lif_file(r\"data\\RASC025 5 day livedeadpkh26 3D.lif\")\n",
    "day10_data = import_lif_file(r\"data\\RASC025 live-dead-pkh26 10 day 3D.lif\")"
   ]
  },
  {
   "cell_type": "code",
   "execution_count": null,
   "id": "51323db4",
   "metadata": {
    "scrolled": true
   },
   "outputs": [],
   "source": [
    "quick_view_3d_images(day5_data)"
   ]
  },
  {
   "cell_type": "code",
   "execution_count": null,
   "id": "d2f5b8be",
   "metadata": {
    "scrolled": true
   },
   "outputs": [],
   "source": [
    "quick_view_3d_images(day10_data)"
   ]
  },
  {
   "cell_type": "code",
   "execution_count": null,
   "id": "34046f47",
   "metadata": {
    "scrolled": true
   },
   "outputs": [],
   "source": [
    "display_all_3Dlayers_from_list(day5_data)"
   ]
  },
  {
   "cell_type": "code",
   "execution_count": null,
   "id": "99095cca",
   "metadata": {
    "scrolled": true
   },
   "outputs": [],
   "source": [
    "display_all_3Dlayers_from_list(day10_data)"
   ]
  },
  {
   "cell_type": "code",
   "execution_count": null,
   "id": "74a167f4",
   "metadata": {},
   "outputs": [],
   "source": [
    "#The third channel has a seperate dye, that is not necessary for the live/dead ratio count\n",
    "\n",
    "data5_data_noCh3 = copy.deepcopy(day5_data)\n",
    "\n",
    "for image in data5_data_noCh3:\n",
    "    if len(image['channel_images']) >= 3:\n",
    "        del image['channel_images'][2]\n",
    "\n",
    "        if len(image['variable_names']) >= 3:\n",
    "            del image['variable_names'][2]"
   ]
  },
  {
   "cell_type": "code",
   "execution_count": null,
   "id": "5026fbf6",
   "metadata": {},
   "outputs": [],
   "source": [
    "data10_data_noCh3 = copy.deepcopy(day10_data)\n",
    "\n",
    "for image in data10_data_noCh3:\n",
    "    if len(image['channel_images']) >= 3:\n",
    "        del image['channel_images'][2]\n",
    "\n",
    "        if len(image['variable_names']) >= 3:\n",
    "            del image['variable_names'][2]"
   ]
  },
  {
   "cell_type": "code",
   "execution_count": null,
   "id": "b293a660",
   "metadata": {},
   "outputs": [],
   "source": [
    "#Removes images of poor quality\n",
    "day5_clean = copy.deepcopy(data5_data_noCh3)\n",
    "\n",
    "if len(day5_clean) > 2:\n",
    "    del day5_clean[2]"
   ]
  },
  {
   "cell_type": "code",
   "execution_count": null,
   "id": "52cd7bba",
   "metadata": {
    "scrolled": true
   },
   "outputs": [],
   "source": [
    "display_all_3Dlayers_from_list(day5_clean)"
   ]
  },
  {
   "cell_type": "code",
   "execution_count": null,
   "id": "84d26869",
   "metadata": {},
   "outputs": [],
   "source": [
    "#Removes images of poor quality\n",
    "day10_clean = copy.deepcopy(data10_data_noCh3)\n",
    "\n",
    "if len(day10_clean) > 3:\n",
    "    del day10_clean[2:4]  "
   ]
  },
  {
   "cell_type": "code",
   "execution_count": null,
   "id": "ddebe5e2",
   "metadata": {
    "scrolled": true
   },
   "outputs": [],
   "source": [
    "display_all_3Dlayers_from_list(day10_clean)"
   ]
  },
  {
   "cell_type": "code",
   "execution_count": null,
   "id": "c58406ea",
   "metadata": {
    "scrolled": true
   },
   "outputs": [],
   "source": [
    "#In the cell count I take only part of the layers to minimize the effect of artifacts caused by laser flare and other phenomena at different layers\n",
    "result_dict = {}\n",
    "\n",
    "for image_data in day5_clean:\n",
    "    image_name = image_data[\"image_name\"]\n",
    "    channel_images = image_data[\"channel_images\"]\n",
    "    \n",
    "    for channel_index, np_image in enumerate(channel_images[:2]):\n",
    "        selected_slices = np_image[10:20]\n",
    "        stacked_image = np.stack(selected_slices, axis=0)\n",
    "        cell_count = cell_counter_3D(f\"{image_name}_channel_{channel_index + 1}\", stacked_image)\n",
    "        result_dict[f\"{image_name}_channel_{channel_index + 1}\"] = cell_count\n",
    "\n",
    "print(result_dict)"
   ]
  },
  {
   "cell_type": "code",
   "execution_count": null,
   "id": "98115cce",
   "metadata": {
    "scrolled": true
   },
   "outputs": [],
   "source": [
    "#In the cell count I take only part of the layers to minimize the effect of artifacts caused by laser flare and other\n",
    "#phenomena at different layers  and also to reduce the computational time.\n",
    "result_dict2 = {}\n",
    "\n",
    "for image_data in day10_clean: \n",
    "    image_name = image_data[\"image_name\"]\n",
    "    channel_images = image_data[\"channel_images\"]\n",
    "    \n",
    "    for channel_index, np_image in enumerate(channel_images[:2]):\n",
    "        selected_slices = np_image[10:20]\n",
    "        stacked_image = np.stack(selected_slices, axis=0)\n",
    "        cell_count = cell_counter_3D(f\"{image_name}_channel_{channel_index + 1}\", stacked_image)\n",
    "        result_dict2[f\"{image_name}_channel_{channel_index + 1}\"] = cell_count\n",
    "\n",
    "print(result_dict2)"
   ]
  },
  {
   "cell_type": "code",
   "execution_count": null,
   "id": "5b9a1a81",
   "metadata": {},
   "outputs": [],
   "source": [
    "def create_dataframe_from_dict(result_dict):\n",
    "    # Split the dictionary into two based on channel\n",
    "    channel_1_dict = {key: value for key, value in result_dict.items() if 'channel_1' in key}\n",
    "    channel_2_dict = {key: value for key, value in result_dict.items() if 'channel_2' in key}\n",
    "\n",
    "    # Process to align the data correctly\n",
    "    # Extract the base image name (without channel part)\n",
    "    channel_1_names = [key.rsplit('_channel_1', 1)[0] for key in channel_1_dict.keys()]\n",
    "    channel_2_names = [key.rsplit('_channel_2', 1)[0] for key in channel_2_dict.keys()]\n",
    "\n",
    "    # Combine and sort the unique names\n",
    "    all_image_names = sorted(set(channel_1_names) | set(channel_2_names))\n",
    "\n",
    "    # Prepare the data for the dataframe\n",
    "    data = {\n",
    "        'Channel 1': [channel_1_dict.get(name + '_channel_1', 0) for name in all_image_names],\n",
    "        'Channel 2': [channel_2_dict.get(name + '_channel_2', 0) for name in all_image_names]\n",
    "    }\n",
    "\n",
    "    # Create and return the dataframe\n",
    "    df = pd.DataFrame(data, index=all_image_names)\n",
    "    return df\n",
    "\n",
    "# Assuming result_dict and result_dict2 are defined as per your input\n",
    "df1 = create_dataframe_from_dict(result_dict)\n",
    "df2 = create_dataframe_from_dict(result_dict2)\n",
    "\n",
    "# Display the dataframes\n",
    "df2"
   ]
  },
  {
   "cell_type": "code",
   "execution_count": null,
   "id": "85d0d4c6",
   "metadata": {},
   "outputs": [],
   "source": [
    "#Live cells are in the second channel and the dead cells are in the first one\n",
    "def calculate_live_dead_ratio(df):\n",
    "    total_channel_1 = df['Channel 1'].sum()\n",
    "    total_channel_2 = df['Channel 2'].sum()\n",
    "    ratio = total_channel_1 / total_channel_2 if total_channel_2 != 0 else 0\n",
    "    return ratio\n",
    "\n",
    "ratio_day_5 = calculate_live_dead_ratio(df1)\n",
    "ratio_day_10 = calculate_live_dead_ratio(df2)\n",
    "\n",
    "live_dead_ratio_df = pd.DataFrame({'live/dead ratio': [ratio_day_5, ratio_day_10]}, index=['Day 5', 'Day 10'])\n",
    "\n",
    "print(live_dead_ratio_df)"
   ]
  },
  {
   "cell_type": "code",
   "execution_count": null,
   "id": "d66d8075",
   "metadata": {},
   "outputs": [],
   "source": [
    "def calculate_individual_ratios(df):\n",
    "    ratios = df['Channel 1'] / df['Channel 2'].replace(0, np.nan) \n",
    "    return ratios.dropna() \n",
    "\n",
    "\n",
    "individual_ratios_day_5 = calculate_individual_ratios(df1)\n",
    "individual_ratios_day_10 = calculate_individual_ratios(df2)\n",
    "\n",
    "\n",
    "mean_ratio_day_5 = individual_ratios_day_5.mean()\n",
    "std_error_day_5 = individual_ratios_day_5.std() / np.sqrt(len(individual_ratios_day_5))\n",
    "\n",
    "mean_ratio_day_10 = individual_ratios_day_10.mean()\n",
    "std_error_day_10 = individual_ratios_day_10.std() / np.sqrt(len(individual_ratios_day_10))\n",
    "\n",
    "\n",
    "live_dead_ratio_df = pd.DataFrame({'live/dead ratio': [mean_ratio_day_5, mean_ratio_day_10],\n",
    "                                   'std_error': [std_error_day_5, std_error_day_10]},\n",
    "                                   index=['Day 5', 'Day 10'])\n",
    "\n",
    "\n",
    "plt.figure(figsize=(8, 6))\n",
    "plt.bar(live_dead_ratio_df.index, live_dead_ratio_df['live/dead ratio'], \n",
    "        yerr=live_dead_ratio_df['std_error'], capsize=5, color='tab:blue')\n",
    "plt.xlabel('Day')\n",
    "plt.ylabel('Live/Dead Ratio')\n",
    "plt.title('Live/Dead Ratio for Day 5 and Day 10 with Error Bars')\n",
    "plt.xticks(rotation=45)\n",
    "plt.show()\n",
    "\n",
    "live_dead_ratio_df"
   ]
  }
 ],
 "metadata": {
  "kernelspec": {
   "display_name": "Python 3 (ipykernel)",
   "language": "python",
   "name": "python3"
  },
  "language_info": {
   "codemirror_mode": {
    "name": "ipython",
    "version": 3
   },
   "file_extension": ".py",
   "mimetype": "text/x-python",
   "name": "python",
   "nbconvert_exporter": "python",
   "pygments_lexer": "ipython3",
   "version": "3.11.5"
  }
 },
 "nbformat": 4,
 "nbformat_minor": 5
}
